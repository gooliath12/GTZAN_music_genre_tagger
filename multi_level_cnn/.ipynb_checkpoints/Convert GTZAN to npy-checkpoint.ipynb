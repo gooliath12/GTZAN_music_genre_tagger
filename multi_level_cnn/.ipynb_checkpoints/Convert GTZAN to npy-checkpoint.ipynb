{
 "cells": [
  {
   "cell_type": "markdown",
   "metadata": {},
   "source": [
    "# Convert GTZAN Dataset to .npy files"
   ]
  },
  {
   "cell_type": "markdown",
   "metadata": {},
   "source": [
    "This script is used to convert audio files in GTZAN and their labels to numpy files.\n",
    "\n",
    "### Run this script:\n",
    "1. Modify `PATH_DATASET` to the path to GTZAN dataset **on your computer**.\n",
    "2. Run the last cell to generate `X.npy`, `Y.npy`, and `gtzan_genre.csv` in folder `./datasets/`\n",
    "\n",
    "[Download GTZAN Dataset](http://marsyasweb.appspot.com/download/data_sets/)"
   ]
  },
  {
   "cell_type": "code",
   "execution_count": null,
   "metadata": {
    "collapsed": true
   },
   "outputs": [],
   "source": [
    "import os\n",
    "import numpy as np\n",
    "import pandas as pd\n",
    "import librosa\n",
    "import time"
   ]
  },
  {
   "cell_type": "code",
   "execution_count": null,
   "metadata": {
    "collapsed": true
   },
   "outputs": [],
   "source": [
    "# PATH TO ORIGIN DATASET, MODIFY THIS TO THE PATH OF DATASET ON YOUR COMPUTER!\n",
    "PATH_DATASET = '/Users/pengguo/Desktop/coms4995/Project/datasets/gtzan_genre/genres/'\n",
    "# PATH TO ROOT DIRECTORY\n",
    "PATH_ROOT = './'\n",
    "# PATH TO CONVERTED DATASET\n",
    "if not os.path.exists(PATH_ROOT + 'dataset/'):\n",
    "    os.mkdir(PATH_ROOT + 'dataset/')\n",
    "PATH_X = PATH_ROOT + 'dataset/X.npy'\n",
    "PATH_Y = PATH_ROOT + 'dataset/Y.npy'\n",
    "# PATH TO CSV FILE\n",
    "PATH_CSV = PATH_ROOT + 'gtzan_genre.csv'\n",
    "\n",
    "# PARAMETERS\n",
    "NUM_DATA = 1000\n",
    "SR = 12000 # sample rate: 12KHz\n",
    "len_src = 29. # duration: 29 secs\n",
    "NUM_JOBS = 9 # Num of jobs in multiprocessing\n",
    "ref_n_src = 12000 * 29"
   ]
  },
  {
   "cell_type": "code",
   "execution_count": null,
   "metadata": {
    "collapsed": true
   },
   "outputs": [],
   "source": [
    "def get_rows_from_folders():\n",
    "    '''\n",
    "    Generate csv file for GTZAN dataset.\n",
    "    '''\n",
    "    labels = ['blues', 'classical', 'country', 'disco', 'hiphop', 'jazz', 'metal', 'pop', 'reggae', 'rock']\n",
    "    folders = [s + '/' for s in labels]\n",
    "    \n",
    "    rows = []\n",
    "    for label_idx, folder in enumerate(folders): # assumes different labels per folders.\n",
    "        files = os.listdir(os.path.join(PATH_DATASET, folder))\n",
    "        for fname in files:\n",
    "            file_path = os.path.join(folder, fname)\n",
    "            file_id = fname.split('.')[0]\n",
    "            file_label = label_idx\n",
    "            rows.append([file_id, file_path, file_label])\n",
    "    \n",
    "    print 'Done - length:{}'.format(len(rows))\n",
    "    print \"First row: {}\".format(rows[0])\n",
    "    print \"Last row: {}\".format(rows[-1])\n",
    "    return rows\n",
    "\n",
    "\n",
    "def get_csv():\n",
    "    '''\n",
    "    Write rows (from get_rows_from_folders()) to csv\n",
    "    '''\n",
    "    rows = get_rows_from_folders()\n",
    "    df = pd.DataFrame(rows, columns=['id', 'filepath', 'label'])\n",
    "    df.to_csv(PATH_CSV)\n",
    "    return"
   ]
  },
  {
   "cell_type": "code",
   "execution_count": null,
   "metadata": {
    "collapsed": true
   },
   "outputs": [],
   "source": [
    "def gen_filepaths(df):\n",
    "    '''\n",
    "    A Generator reading file paths from dataframe.\n",
    "    Inputs:\n",
    "        - df: Dataframe converted from .csv file.\n",
    "    Return:\n",
    "        - paths to each audio file\n",
    "    '''\n",
    "    for filepath in df['filepath']:\n",
    "        yield os.path.join(PATH_DATASET, filepath)\n",
    "\n",
    "\n",
    "def _load_audio(path):\n",
    "    '''\n",
    "    Load audio file at path with sampling rate=SR, duration=len_src, and return it\n",
    "    '''\n",
    "    src, sr = librosa.load(path, sr=SR, duration=len_src * SR / float(SR))\n",
    "    src = src[:ref_n_src]\n",
    "    result = np.zeros(ref_n_src)\n",
    "    result[:len(src)] = src[:ref_n_src]\n",
    "    return result\n",
    "\n",
    "\n",
    "def gen_X():\n",
    "    '''\n",
    "    Convert GTZAN audio files to a single .npy file.\n",
    "    shape of X: (1000, 1, 348000)\n",
    "    '''\n",
    "    print 'Start generating X...'\n",
    "    start_time = time.time()\n",
    "    df = pd.DataFrame.from_csv(PATH_CSV) # load csv\n",
    "    filepaths = gen_filepaths(df)  # filepaths: generator\n",
    "    \n",
    "    raw_data = np.array([_load_audio(filepaths.next()) for _ in xrange(NUM_DATA)])\n",
    "    data = raw_data[:, np.newaxis, :] # \"Insert\" one dimension\n",
    "    np.save(PATH_X, data)\n",
    "    print 'DONE! in {:6.4f} sec'.format(time.time() - start_time)\n",
    "    return data\n",
    "\n",
    "def gen_Y():\n",
    "    '''\n",
    "    Generate labels for GTZAN dataset.\n",
    "    '''\n",
    "    df = pd.DataFrame.from_csv(PATH_CSV) # load csv\n",
    "    data = np.array(df['label'])\n",
    "    np.save(PATH_Y, data)\n",
    "    return data"
   ]
  },
  {
   "cell_type": "code",
   "execution_count": null,
   "metadata": {
    "collapsed": true
   },
   "outputs": [],
   "source": [
    "get_csv()\n",
    "X = gen_X()\n",
    "Y = gen_Y()\n",
    "print X.shape\n",
    "print Y.shape"
   ]
  }
 ],
 "metadata": {
  "kernelspec": {
   "display_name": "Python 2",
   "language": "python",
   "name": "python2"
  },
  "language_info": {
   "codemirror_mode": {
    "name": "ipython",
    "version": 2
   },
   "file_extension": ".py",
   "mimetype": "text/x-python",
   "name": "python",
   "nbconvert_exporter": "python",
   "pygments_lexer": "ipython2",
   "version": "2.7.13"
  }
 },
 "nbformat": 4,
 "nbformat_minor": 2
}
